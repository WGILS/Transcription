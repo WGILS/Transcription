{
 "cells": [
  {
   "cell_type": "code",
   "execution_count": 3,
   "metadata": {
    "collapsed": true
   },
   "outputs": [],
   "source": [
    "import numpy as np\n",
    "import matplotlib.pyplot as plt"
   ]
  },
  {
   "cell_type": "markdown",
   "metadata": {},
   "source": [
    "## Caitlin 3:55:08 \n",
    "## Anne-Laure 44:44 38:16 1:31:10 1:49:27 55:13 53:16\n",
    "## Lin 2:54:21 1:41 1:18\n",
    "## Yoav 3:27:37 3:22:42\n",
    "## Win 2:06:12\n",
    "## Betrand 8:08:17\n",
    "## Ingrid 58:33\n",
    "## Paulo 2:27:17 3:13:39\n",
    "## Peter 32:38 44:17\n",
    "## Xavier 8:07:02\n",
    "## YJ 57:42 7:55 20:28 2:44:20 25:35\n",
    "## Matthew 3:29:27\n",
    "## Group 1 1:33:12 1:01:22\n",
    "## Group 2 1:33:12 1:03:39 \n",
    "## Group 3 1:33:12\n",
    "## Group 4 nothing useful"
   ]
  },
  {
   "cell_type": "code",
   "execution_count": 40,
   "metadata": {
    "collapsed": true
   },
   "outputs": [],
   "source": [
    "cait = 3*60*60+55*60+8\n",
    "al = [44*60+44, 38*60+16, 60*60+31*60+10, 60*60+49*60+27, 55*60+13, 53*60+16]\n",
    "lin = [2*60*60+54*60+21, 101, 78]\n",
    "yoav = [3*60*60+27*60+37, 3*60*60+22*60+42]\n",
    "win = 2*60*60+6*60+12\n",
    "betrand = 8*60*60+8*60+17\n",
    "ingrid = 58*60+33\n",
    "paulo = [2*60*60+27*60+17,3*60*60+13*60+39]\n",
    "peter = [32*60+38, 44*60+17]\n",
    "xavier = 8*60*60+7*60+2\n",
    "yj = [57*60+42, 7*60+55, 20*60+28, 2*60*60+44*60+20, 25*60+35]\n",
    "matthew = [3*60*60+29*60+27]\n",
    "g1 = [60*60+33*60+12, 60*60+60+22]\n",
    "g2 = [60*60+33*60+12, 60*60+3*60+39]\n",
    "g3 = 60*60+33*60+12"
   ]
  },
  {
   "cell_type": "markdown",
   "metadata": {},
   "source": [
    "peter -> matthew -> yoav -> win -> yj -> betrand -> lin -> al -> paulo2"
   ]
  },
  {
   "cell_type": "code",
   "execution_count": 35,
   "metadata": {
    "collapsed": true
   },
   "outputs": [],
   "source": [
    "#timeline = np.arange(betrand)\n",
    "timeline = np.arange(9*60*60)"
   ]
  },
  {
   "cell_type": "code",
   "execution_count": 41,
   "metadata": {
    "collapsed": true
   },
   "outputs": [],
   "source": [
    "#first round\n",
    "peter2 = 10*np.ones(peter[0])\n",
    "#peter2[:peter[0]] = 10*np.ones(peter[0])\n",
    "matoff = .4\n",
    "mat2 = 20*np.ones(matthew[0])\n",
    "yoff = 1\n",
    "y2 = 30*np.ones(yoav[0])\n",
    "woff = 1.7\n",
    "w2 = 40*np.ones(win)\n",
    "yjoff = 4.6\n",
    "yj2 = 50*np.ones(yj[0])\n",
    "betoff = 13.4\n",
    "bet2 = 60*np.ones(betrand)\n",
    "linoff = 115.1\n",
    "lin2 = 70*np.ones(lin[0])\n",
    "aloff = 131.7\n",
    "al2 = 80*np.ones(al[0])\n",
    "pauoff = 161.2\n",
    "paul2 = 90*np.ones(paulo[1])\n",
    "xavoff = 1621.5 + yoff\n",
    "xav2 = 100*np.ones(xavier)\n",
    "##\n",
    "g12 = 130*np.ones(g1[0])\n",
    "g1off = 2940.2 - 25 + yoff\n",
    "g22 = 140*np.ones(g2[0])\n",
    "g2off = 4224.1 - 1293 + yoff\n",
    "g32 = 150*np.ones(g3)\n",
    "g3off = 4382.9 - 24*60+19"
   ]
  },
  {
   "cell_type": "code",
   "execution_count": 38,
   "metadata": {},
   "outputs": [],
   "source": [
    "#second round\n",
    "aloff2 = 4644.3-16.9+yoff\n",
    "al3 = 80*np.ones(al[1])\n",
    "aloff3 = 7043.8-68.8+yoff\n",
    "al4 = 80*np.ones(al[2])\n",
    "yoff2 = xavoff + round(25284.5 - 11353.6)\n",
    "y3=30*np.ones(yoav[1])\n",
    "aloff4 = yoff2 + 4214.5-4083.4\n",
    "al5 = 80*np.ones(al[3])\n",
    "aloff5 = yoff2 + 7517.9-545.1\n",
    "al6 = 80*np.ones(al[4])\n",
    "aloff6 = yoff2 + 11564.6-1089.8\n",
    "al7 = 80*np.ones(al[5])\n",
    "caitoff = aloff4 + 24.2-241.4\n",
    "cait2 = 110*np.ones(cait)\n",
    "pauloff2 = caitoff+6657.5-2931.9\n",
    "paul3 = 90*np.ones(paulo[0])\n",
    "\n",
    "ingoff = yoff2 + 4214.5-1061.9\n",
    "ing2 = 120*np.ones(ingrid)\n",
    "peteroff2 = betoff + 9131.6-2008.6\n",
    "peter3 = 10*np.ones(peter[1])\n",
    "yjoff2 = yoff+4700.1-77.2\n",
    "yj3 = 50*np.ones(yj[1])\n",
    "yjoff3 = yoff+ 11272.2-67.1\n",
    "yj4 = 50*np.ones(yj[2])\n",
    "yjoff4 = yoff2 + 442.6-51.9\n",
    "yj5 = 50*np.ones(yj[3])\n",
    "yjoff5 = aloff6 +3125.1 - 1468.5\n",
    "yj6 = 50*np.ones(yj[4])\n",
    "\n",
    "g13 = 130*np.ones(g1[1])\n",
    "g1off2 = yoff + 16170 - 1\n",
    "\n",
    "g23 = 140*np.ones(g2[1])\n",
    "g2off2 = caitoff + 1000.2 - 4\n",
    "\n"
   ]
  },
  {
   "cell_type": "code",
   "execution_count": 27,
   "metadata": {
    "scrolled": false
   },
   "outputs": [
    {
     "name": "stdout",
     "output_type": "stream",
     "text": [
      "131.7 4628.400000000001 6976.0 15684.6 22526.300000000003 26028.3\n"
     ]
    }
   ],
   "source": [
    "print(aloff,aloff2,aloff3,aloff4,aloff5,aloff6)"
   ]
  },
  {
   "cell_type": "code",
   "execution_count": 28,
   "metadata": {
    "scrolled": true
   },
   "outputs": [
    {
     "name": "stdout",
     "output_type": "stream",
     "text": [
      "13.4 9745.4 19477.4\n"
     ]
    }
   ],
   "source": [
    "print(betoff,betoff+2*60*60+42*60+12, betoff + 2*(2*60*60+42*60+12))"
   ]
  },
  {
   "cell_type": "code",
   "execution_count": 29,
   "metadata": {
    "scrolled": true
   },
   "outputs": [
    {
     "name": "stdout",
     "output_type": "stream",
     "text": [
      "15467.400000000001 22496.4\n"
     ]
    }
   ],
   "source": [
    "print(caitoff,caitoff+60*60+57*60+9)"
   ]
  },
  {
   "cell_type": "code",
   "execution_count": 30,
   "metadata": {
    "scrolled": true
   },
   "outputs": [
    {
     "name": "stdout",
     "output_type": "stream",
     "text": [
      "18706.1\n"
     ]
    }
   ],
   "source": [
    "print(ingoff)"
   ]
  },
  {
   "cell_type": "code",
   "execution_count": 31,
   "metadata": {},
   "outputs": [
    {
     "name": "stdout",
     "output_type": "stream",
     "text": [
      "115.1\n"
     ]
    }
   ],
   "source": [
    "print(linoff)"
   ]
  },
  {
   "cell_type": "code",
   "execution_count": 13,
   "metadata": {},
   "outputs": [
    {
     "name": "stdout",
     "output_type": "stream",
     "text": [
      "0.4 6262.4\n"
     ]
    }
   ],
   "source": [
    "print(matoff,matoff+60*60+44*60+22)"
   ]
  },
  {
   "cell_type": "code",
   "execution_count": 14,
   "metadata": {},
   "outputs": [
    {
     "name": "stdout",
     "output_type": "stream",
     "text": [
      "161.2 19193.0\n"
     ]
    }
   ],
   "source": [
    "print(pauoff,pauloff2)"
   ]
  },
  {
   "cell_type": "code",
   "execution_count": 15,
   "metadata": {},
   "outputs": [
    {
     "name": "stdout",
     "output_type": "stream",
     "text": [
      "0 7136.4\n"
     ]
    }
   ],
   "source": [
    "print(0,peteroff2)"
   ]
  },
  {
   "cell_type": "code",
   "execution_count": 16,
   "metadata": {},
   "outputs": [
    {
     "name": "stdout",
     "output_type": "stream",
     "text": [
      "1.7\n"
     ]
    }
   ],
   "source": [
    "print(woff)"
   ]
  },
  {
   "cell_type": "code",
   "execution_count": 17,
   "metadata": {},
   "outputs": [
    {
     "name": "stdout",
     "output_type": "stream",
     "text": [
      "1622.5 11329.5 21036.5\n"
     ]
    }
   ],
   "source": [
    "print(xavoff,xavoff+2*60*60+41*60+47,xavoff+2*(2*60*60+41*60+47))"
   ]
  },
  {
   "cell_type": "code",
   "execution_count": 18,
   "metadata": {},
   "outputs": [
    {
     "name": "stdout",
     "output_type": "stream",
     "text": [
      "4.6 4623.900000000001 11206.1 15944.2 27684.899999999998\n"
     ]
    }
   ],
   "source": [
    "print(yjoff,yjoff2,yjoff3,yjoff4,yjoff5)"
   ]
  },
  {
   "cell_type": "code",
   "execution_count": 19,
   "metadata": {
    "scrolled": true
   },
   "outputs": [
    {
     "name": "stdout",
     "output_type": "stream",
     "text": [
      "1 15553.5\n"
     ]
    }
   ],
   "source": [
    "print(yoff,yoff2)"
   ]
  },
  {
   "cell_type": "code",
   "execution_count": 20,
   "metadata": {
    "scrolled": true
   },
   "outputs": [
    {
     "name": "stdout",
     "output_type": "stream",
     "text": [
      "2916.2 16170 5592 3682 5592 3682\n"
     ]
    }
   ],
   "source": [
    "print(g1off,g1off2,len(g12),len(g13),g1[0],g1[1])"
   ]
  },
  {
   "cell_type": "code",
   "execution_count": null,
   "metadata": {
    "collapsed": true
   },
   "outputs": [],
   "source": []
  },
  {
   "cell_type": "code",
   "execution_count": null,
   "metadata": {
    "collapsed": true
   },
   "outputs": [],
   "source": []
  },
  {
   "cell_type": "code",
   "execution_count": null,
   "metadata": {
    "collapsed": true
   },
   "outputs": [],
   "source": []
  },
  {
   "cell_type": "code",
   "execution_count": 21,
   "metadata": {},
   "outputs": [
    {
     "name": "stdout",
     "output_type": "stream",
     "text": [
      "[16170 16171 16172 ... 19849 19850 19851] [2916.2 2917.2 2918.2 ... 8505.2 8506.2 8507.2] [110. 110. 110. ... 110. 110. 110.] [130. 130. 130. ... 130. 130. 130.]\n"
     ]
    }
   ],
   "source": [
    "print(np.arange(g1off2,g1off2+len(g13),1),np.arange(g1off,g1off+len(g12)-1,1),g12,g13)"
   ]
  },
  {
   "cell_type": "code",
   "execution_count": 44,
   "metadata": {
    "scrolled": true
   },
   "outputs": [
    {
     "data": {
      "image/png": "[encoded data removed]",
      "text/plain": [
       "<Figure size 432x288 with 1 Axes>"
      ]
     },
     "metadata": {},
     "output_type": "display_data"
    },
    {
     "data": {
      "text/plain": [
       "<Figure size 720x720 with 0 Axes>"
      ]
     },
     "metadata": {},
     "output_type": "display_data"
    }
   ],
   "source": [
    "plt.plot(peter2)\n",
    "plt.plot(np.arange(matoff,matoff+len(mat2),1),mat2)\n",
    "plt.plot(np.arange(yoff,yoff+len(y2),1),y2)\n",
    "plt.plot(np.arange(woff,woff+len(w2),1),w2)\n",
    "plt.plot(np.arange(yjoff,yjoff+len(yj2),1),yj2)\n",
    "plt.plot(np.arange(betoff,betoff+len(bet2),1),bet2)\n",
    "plt.plot(np.arange(linoff,linoff+len(lin2),1),lin2)\n",
    "plt.plot(np.arange(aloff,aloff+len(al2),1),al2)\n",
    "plt.plot(np.arange(pauoff,pauoff+len(paul2),1),paul2)\n",
    "plt.plot(np.arange(xavoff,xavoff+len(xav2),1),xav2)\n",
    "plt.plot(np.arange(caitoff,caitoff+len(cait2),1),cait2)\n",
    "plt.plot(np.arange(ingoff,ingoff+len(ing2),1),ing2)\n",
    "plt.plot(np.arange(g1off,g1off+len(g12)-1,1),g12) #this is very strange, why i have to substract 1\n",
    "plt.plot(np.arange(g2off,g2off+len(g22),1),g22)\n",
    "plt.plot(np.arange(g3off,g3off+len(g32),1),g32)\n",
    "#round 2\n",
    "plt.plot(np.arange(aloff2,aloff2+len(al3),1),al3)\n",
    "plt.plot(np.arange(yoff2,yoff2+len(y3),1),y3)\n",
    "plt.plot(np.arange(pauloff2,pauloff2+len(paul3),1),paul3)\n",
    "plt.plot(np.arange(peteroff2,peteroff2+len(peter3),1),peter3)\n",
    "plt.plot(np.arange(yjoff2,yjoff2+len(yj3),1),yj3)\n",
    "plt.plot(np.arange(yjoff3,yjoff3+len(yj4),1),yj4)\n",
    "plt.plot(np.arange(yjoff4,yjoff4+len(yj5),1),yj5)\n",
    "plt.plot(np.arange(yjoff5,yjoff5+len(yj6),1),yj6)\n",
    "\n",
    "\n",
    "plt.plot(np.arange(aloff3,aloff3+len(al4),1),al4)\n",
    "plt.plot(np.arange(aloff4,aloff4+len(al5),1),al5)\n",
    "plt.plot(np.arange(aloff5,aloff5+len(al6),1),al6)\n",
    "plt.plot(np.arange(aloff6,aloff6+len(al7),1),al7)\n",
    "plt.plot(np.arange(g1off2,g1off2+len(g13),1),g13)\n",
    "plt.plot(np.arange(g2off2,g2off2+len(g23),1),g23)\n",
    "#locs, labels = yticks()\n",
    "plt.yticks(np.arange(10,151,10), ('Peter', 'Matthew', 'Yoav', 'Win', 'YJ','Betrand','Lin','Anne-Laure', 'Paulo','Xavier','Caitlin','Ingrid','Group 1','Group 2','Group 3'))\n",
    "plt.figure(figsize=(10,10))\n",
    "plt.savefig('Recorders.png')\n",
    "plt.show()"
   ]
  },
  {
   "cell_type": "code",
   "execution_count": null,
   "metadata": {
    "collapsed": true
   },
   "outputs": [],
   "source": []
  },
  {
   "cell_type": "code",
   "execution_count": null,
   "metadata": {
    "collapsed": true
   },
   "outputs": [],
   "source": []
  },
  {
   "cell_type": "code",
   "execution_count": null,
   "metadata": {
    "collapsed": true
   },
   "outputs": [],
   "source": []
  }
 ],
 "metadata": {
  "kernelspec": {
   "display_name": "Python [conda env:anaconda3]",
   "language": "python",
   "name": "conda-env-anaconda3-py"
  },
  "language_info": {
   "codemirror_mode": {
    "name": "ipython",
    "version": 3
   },
   "file_extension": ".py",
   "mimetype": "text/x-python",
   "name": "python",
   "nbconvert_exporter": "python",
   "pygments_lexer": "ipython3",
   "version": "3.6.3"
  }
 },
 "nbformat": 4,
 "nbformat_minor": 2
}
